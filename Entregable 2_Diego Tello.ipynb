{
 "cells": [
  {
   "cell_type": "code",
   "execution_count": 1,
   "id": "bfc97a72-997d-4f16-921e-d86452a92e42",
   "metadata": {},
   "outputs": [],
   "source": [
    "import requests\n",
    "import json\n",
    "import pandas as pd\n",
    "import psycopg2"
   ]
  },
  {
   "cell_type": "code",
   "execution_count": 2,
   "id": "da3d1b4f-2602-48ad-b5c5-8ec8b7509eee",
   "metadata": {
    "tags": []
   },
   "outputs": [
    {
     "name": "stdout",
     "output_type": "stream",
     "text": [
      "Conectado a Redshift con éxito!\n"
     ]
    }
   ],
   "source": [
    "# Creando la conexión a Redshift\n",
    "\n",
    "url=\"data-engineer-cluster.cyhh5bfevlmn.us-east-1.redshift.amazonaws.com\"\n",
    "data_base=\"data-engineer-database\"\n",
    "user=\"diegoalonsotelloalva1998_coderhouse\"\n",
    "pwd= 'KTs5N49gGd'\n",
    "\n",
    "try:\n",
    "    conn = psycopg2.connect(\n",
    "        host='data-engineer-cluster.cyhh5bfevlmn.us-east-1.redshift.amazonaws.com',\n",
    "        dbname=data_base,\n",
    "        user=user,\n",
    "        password=pwd,\n",
    "        port='5439'\n",
    "    )\n",
    "    print(\"Conectado a Redshift con éxito!\")\n",
    "    \n",
    "except Exception as e:\n",
    "    print(\"No es posible conectar a Redshift\")"
   ]
  },
  {
   "cell_type": "code",
   "execution_count": 3,
   "id": "2b0a443f-5005-4272-8549-2179100040bb",
   "metadata": {
    "tags": []
   },
   "outputs": [],
   "source": [
    "#Crear la tabla si no existe\n",
    "with conn.cursor() as cur:\n",
    "    cur.execute(\"\"\"\n",
    "        CREATE TABLE IF NOT EXISTS diegoalonsotelloalva1998_coderhouse.bitcoins\n",
    "        (\n",
    "         compra_bitcon_pesoarg FLOAT\n",
    "        ,comision_bitcon_pesoarg FLOAT \n",
    "        ,venta_bitcon_pesoarg FLOAT \n",
    "        ,compra_trxusdt_pesoarg FLOAT\n",
    "        ,comision_trxusdt_pesoarg FLOAT\n",
    "        ,venta_trxusdt_pesoarg FLOAT\n",
    "        ,fecha_actualizacion VARCHAR(255)\n",
    "        ,comision_retiro FLOAT\n",
    "        )\n",
    "    \"\"\")\n",
    "    conn.commit()"
   ]
  },
  {
   "cell_type": "code",
   "execution_count": 4,
   "id": "563423ed-914b-497f-ba13-c3e179c2baf5",
   "metadata": {
    "tags": []
   },
   "outputs": [],
   "source": [
    "#Vaciar la tabla para evitar duplicados o inconsistencias\n",
    "with conn.cursor() as cur:\n",
    "  cur.execute(\"Truncate table bitcoins\")\n",
    "  count = cur.rowcount"
   ]
  },
  {
   "cell_type": "code",
   "execution_count": 5,
   "id": "10bd8d0e-d5a9-4313-8500-e6bd2c2a0f58",
   "metadata": {
    "tags": []
   },
   "outputs": [
    {
     "data": {
      "text/plain": [
       "[]"
      ]
     },
     "execution_count": 5,
     "metadata": {},
     "output_type": "execute_result"
    }
   ],
   "source": [
    "#consultando la tabla\n",
    "cur = conn.cursor()\n",
    "cur.execute(\"SELECT * FROM bitcoins\")\n",
    "results = cur.fetchall()\n",
    "results"
   ]
  },
  {
   "cell_type": "code",
   "execution_count": 6,
   "id": "f223a8d1-9450-4b4d-9b47-970fc1c8bd9d",
   "metadata": {
    "tags": []
   },
   "outputs": [
    {
     "data": {
      "text/html": [
       "<div>\n",
       "<style scoped>\n",
       "    .dataframe tbody tr th:only-of-type {\n",
       "        vertical-align: middle;\n",
       "    }\n",
       "\n",
       "    .dataframe tbody tr th {\n",
       "        vertical-align: top;\n",
       "    }\n",
       "\n",
       "    .dataframe thead th {\n",
       "        text-align: right;\n",
       "    }\n",
       "</style>\n",
       "<table border=\"1\" class=\"dataframe\">\n",
       "  <thead>\n",
       "    <tr style=\"text-align: right;\">\n",
       "      <th></th>\n",
       "      <th>compra_bitcon_pesoarg</th>\n",
       "      <th>comision_bitcon_pesoarg</th>\n",
       "      <th>venta_bitcon_pesoarg</th>\n",
       "      <th>compra_trxusdt_pesoarg</th>\n",
       "      <th>comision_trxusdt_pesoarg</th>\n",
       "      <th>venta_trxusdt_pesoarg</th>\n",
       "      <th>fecha_actualizacion</th>\n",
       "      <th>comision_retiro</th>\n",
       "    </tr>\n",
       "  </thead>\n",
       "  <tbody>\n",
       "    <tr>\n",
       "      <th>0</th>\n",
       "      <td>74094065.85</td>\n",
       "      <td>11114.109877</td>\n",
       "      <td>6.805107e+07</td>\n",
       "      <td>1088.514094</td>\n",
       "      <td>1088.514094</td>\n",
       "      <td>999.736527</td>\n",
       "      <td>2024-03-18T03:52:37.000000Z</td>\n",
       "      <td>0.045</td>\n",
       "    </tr>\n",
       "  </tbody>\n",
       "</table>\n",
       "</div>"
      ],
      "text/plain": [
       "   compra_bitcon_pesoarg  comision_bitcon_pesoarg  venta_bitcon_pesoarg  \\\n",
       "0            74094065.85             11114.109877          6.805107e+07   \n",
       "\n",
       "   compra_trxusdt_pesoarg  comision_trxusdt_pesoarg  venta_trxusdt_pesoarg  \\\n",
       "0             1088.514094               1088.514094             999.736527   \n",
       "\n",
       "           fecha_actualizacion  comision_retiro  \n",
       "0  2024-03-18T03:52:37.000000Z            0.045  "
      ]
     },
     "metadata": {},
     "output_type": "display_data"
    }
   ],
   "source": [
    "# La API devuelve los últimos precios de compra y venta de los pares BTC / ARS, TRX-USDT / ARS y comisiones.\n",
    "\n",
    "#Paso 1 Extraer la data\n",
    "\n",
    "data = []\n",
    "\n",
    "response = requests.get('https://www.bitmonedero.com/api/btc-ars')\n",
    "data_json = json.loads(response.text)\n",
    "data.append(data_json)\n",
    "  \n",
    "#Paso 2 Crear el diccionario\n",
    "\n",
    "diccionario = {'compra_bitcon_pesoarg':[],'comision_bitcon_pesoarg':[],'venta_bitcon_pesoarg':[],'compra_trxusdt_pesoarg':[]\n",
    "               ,'comision_trxusdt_pesoarg':[],'venta_trxusdt_pesoarg':[],'fecha_actualizacion':[],'comision_retiro':[]}\n",
    "\n",
    "# compra_bitcon_pesoarg\n",
    "# comision_bitcon_pesoarg\n",
    "# venta_bitcon_pesoarg\n",
    "# compra_trxusdt_pesoarg\n",
    "# comision_trxusdt_pesoarg\n",
    "# venta_trxusdt_pesoarg\n",
    "# fecha_actualizacion\n",
    "# comision_retiro\n",
    "\n",
    "#Extraer cada campo de la data\n",
    "        \n",
    "for i in data:\n",
    "    compra_bitcon_pesoarg = i['buy_btc_ars']\n",
    "    comision_bitcon_pesoarg= i['buy_btc_ars_fee']\n",
    "    venta_bitcon_pesoarg= i['sell_btc_ars']\n",
    "    compra_trxusdt_pesoarg= i['buy_trxusdt_ars']\n",
    "    comision_trxusdt_pesoarg = i['buy_trxusdt_ars_fee']\n",
    "    venta_trxusdt_pesoarg= i['sell_trxusdt_ars']\n",
    "    fecha_actualizacion= i['updated_at_prices']\n",
    "    comision_retiro= i['withdrawal_fee']\n",
    "    \n",
    "    diccionario['compra_bitcon_pesoarg'].append(compra_bitcon_pesoarg)\n",
    "    diccionario['comision_bitcon_pesoarg'].append(comision_bitcon_pesoarg)\n",
    "    diccionario['venta_bitcon_pesoarg'].append(venta_bitcon_pesoarg)\n",
    "    diccionario['compra_trxusdt_pesoarg'].append(compra_trxusdt_pesoarg)\n",
    "    diccionario['comision_trxusdt_pesoarg'].append(comision_trxusdt_pesoarg)\n",
    "    diccionario['venta_trxusdt_pesoarg'].append(venta_trxusdt_pesoarg)\n",
    "    diccionario['fecha_actualizacion'].append(fecha_actualizacion)\n",
    "    diccionario['comision_retiro'].append(comision_retiro)\n",
    "    \n",
    "df = pd.DataFrame(diccionario)\n",
    "display(df)"
   ]
  },
  {
   "cell_type": "code",
   "execution_count": 8,
   "id": "6047b8ef-b22f-4f62-9f1b-18a2e427f716",
   "metadata": {
    "tags": []
   },
   "outputs": [],
   "source": [
    "#Insertando los datos en Redsfhift\n",
    "from psycopg2.extras import execute_values\n",
    "with conn.cursor() as cur:\n",
    "    execute_values(\n",
    "        cur,\n",
    "        '''\n",
    "        INSERT INTO bitcoins (compra_bitcon_pesoarg,comision_bitcon_pesoarg,venta_bitcon_pesoarg,compra_trxusdt_pesoarg\n",
    "        ,comision_trxusdt_pesoarg,venta_trxusdt_pesoarg,fecha_actualizacion,comision_retiro)\n",
    "        VALUES %s\n",
    "        ''',\n",
    "        [tuple(row) for row in df.values],\n",
    "        page_size=len(df)\n",
    "    )\n",
    "    conn.commit()"
   ]
  },
  {
   "cell_type": "code",
   "execution_count": 9,
   "id": "497ce9b3-6736-42d7-8258-e71f41360a7b",
   "metadata": {
    "tags": []
   },
   "outputs": [],
   "source": [
    "cur.close()\n",
    "conn.close()"
   ]
  }
 ],
 "metadata": {
  "kernelspec": {
   "display_name": "Python 3 (ipykernel)",
   "language": "python",
   "name": "python3"
  },
  "language_info": {
   "codemirror_mode": {
    "name": "ipython",
    "version": 3
   },
   "file_extension": ".py",
   "mimetype": "text/x-python",
   "name": "python",
   "nbconvert_exporter": "python",
   "pygments_lexer": "ipython3",
   "version": "3.11.5"
  }
 },
 "nbformat": 4,
 "nbformat_minor": 5
}
