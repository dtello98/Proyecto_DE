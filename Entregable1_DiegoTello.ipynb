{
 "cells": [
  {
   "cell_type": "code",
   "execution_count": 1,
   "id": "bfc97a72-997d-4f16-921e-d86452a92e42",
   "metadata": {},
   "outputs": [],
   "source": [
    "import requests\n",
    "import json\n",
    "import pandas as pd\n",
    "import psycopg2"
   ]
  },
  {
   "cell_type": "code",
   "execution_count": 2,
   "id": "da3d1b4f-2602-48ad-b5c5-8ec8b7509eee",
   "metadata": {
    "tags": []
   },
   "outputs": [
    {
     "name": "stdout",
     "output_type": "stream",
     "text": [
      "Conectado a Redshift con éxito!\n"
     ]
    }
   ],
   "source": [
    "# Creando la conexión a Redsshift\n",
    "\n",
    "url=\"data-engineer-cluster.cyhh5bfevlmn.us-east-1.redshift.amazonaws.com\"\n",
    "data_base=\"data-engineer-database\"\n",
    "user=\"diegoalonsotelloalva1998_coderhouse\"\n",
    "pwd= 'KTs5N49gGd'\n",
    "\n",
    "try:\n",
    "    conn = psycopg2.connect(\n",
    "        host='data-engineer-cluster.cyhh5bfevlmn.us-east-1.redshift.amazonaws.com',\n",
    "        dbname=data_base,\n",
    "        user=user,\n",
    "        password=pwd,\n",
    "        port='5439'\n",
    "    )\n",
    "    print(\"Conectado a Redshift con éxito!\")\n",
    "    \n",
    "except Exception as e:\n",
    "    print(\"No es posible conectar a Redshift\")\n",
    "    print(e)"
   ]
  },
  {
   "cell_type": "code",
   "execution_count": 3,
   "id": "2b0a443f-5005-4272-8549-2179100040bb",
   "metadata": {
    "tags": []
   },
   "outputs": [],
   "source": [
    "#Crear la tabla si no existe\n",
    "with conn.cursor() as cur:\n",
    "    cur.execute(\"\"\"\n",
    "        CREATE TABLE IF NOT EXISTS diegoalonsotelloalva1998_coderhouse.chistes\n",
    "        (\n",
    "        id VARCHAR(255) PRIMARY KEY\n",
    "        ,categoria VARCHAR(255)   \n",
    "        ,chiste VARCHAR(255)  \n",
    "        ,idioma VARCHAR(300)   \n",
    "        )\n",
    "    \"\"\")\n",
    "    conn.commit()"
   ]
  },
  {
   "cell_type": "code",
   "execution_count": 4,
   "id": "563423ed-914b-497f-ba13-c3e179c2baf5",
   "metadata": {
    "tags": []
   },
   "outputs": [],
   "source": [
    "#Vaciar la tabla para evitar duplicados o inconsistencias\n",
    "with conn.cursor() as cur:\n",
    "  cur.execute(\"Truncate table chistes\")\n",
    "  count = cur.rowcount"
   ]
  },
  {
   "cell_type": "code",
   "execution_count": 5,
   "id": "10bd8d0e-d5a9-4313-8500-e6bd2c2a0f58",
   "metadata": {
    "tags": []
   },
   "outputs": [
    {
     "data": {
      "text/plain": [
       "[]"
      ]
     },
     "execution_count": 5,
     "metadata": {},
     "output_type": "execute_result"
    }
   ],
   "source": [
    "#consultando la tabla\n",
    "cur = conn.cursor()\n",
    "cur.execute(\"SELECT * FROM chistes\")\n",
    "results = cur.fetchall()\n",
    "results"
   ]
  },
  {
   "cell_type": "code",
   "execution_count": 6,
   "id": "f223a8d1-9450-4b4d-9b47-970fc1c8bd9d",
   "metadata": {
    "tags": []
   },
   "outputs": [
    {
     "data": {
      "text/html": [
       "<div>\n",
       "<style scoped>\n",
       "    .dataframe tbody tr th:only-of-type {\n",
       "        vertical-align: middle;\n",
       "    }\n",
       "\n",
       "    .dataframe tbody tr th {\n",
       "        vertical-align: top;\n",
       "    }\n",
       "\n",
       "    .dataframe thead th {\n",
       "        text-align: right;\n",
       "    }\n",
       "</style>\n",
       "<table border=\"1\" class=\"dataframe\">\n",
       "  <thead>\n",
       "    <tr style=\"text-align: right;\">\n",
       "      <th></th>\n",
       "      <th>Id</th>\n",
       "      <th>Categoria</th>\n",
       "      <th>Chiste</th>\n",
       "      <th>Idioma</th>\n",
       "    </tr>\n",
       "  </thead>\n",
       "  <tbody>\n",
       "    <tr>\n",
       "      <th>0</th>\n",
       "      <td>82</td>\n",
       "      <td>Pun</td>\n",
       "      <td>I have these weird muscle spasms in my gluteus...</td>\n",
       "      <td>en</td>\n",
       "    </tr>\n",
       "    <tr>\n",
       "      <th>1</th>\n",
       "      <td>96</td>\n",
       "      <td>Dark</td>\n",
       "      <td>I didn't vaccinate my 10 kids and the one that...</td>\n",
       "      <td>en</td>\n",
       "    </tr>\n",
       "    <tr>\n",
       "      <th>2</th>\n",
       "      <td>72</td>\n",
       "      <td>Misc</td>\n",
       "      <td>Two reasons I don't give money to homeless peo...</td>\n",
       "      <td>en</td>\n",
       "    </tr>\n",
       "  </tbody>\n",
       "</table>\n",
       "</div>"
      ],
      "text/plain": [
       "   Id Categoria                                             Chiste Idioma\n",
       "0  82       Pun  I have these weird muscle spasms in my gluteus...     en\n",
       "1  96      Dark  I didn't vaccinate my 10 kids and the one that...     en\n",
       "2  72      Misc  Two reasons I don't give money to homeless peo...     en"
      ]
     },
     "metadata": {},
     "output_type": "display_data"
    }
   ],
   "source": [
    "# La API devuelve un chiste por cada consulta que puede ser de 2 tipos (de 1 parte y 2 partes), en este caso extraeremos\n",
    "#todos los casos que sean de 1 parte\n",
    "\n",
    "#Paso 1 Extraer la data\n",
    "\n",
    "counter = 3\n",
    "count_init=0\n",
    "data = []\n",
    "\n",
    "while count_init <counter: \n",
    "    response = requests.get('https://v2.jokeapi.dev/joke/Any')\n",
    "    data_json = json.loads(response.text)\n",
    "    \n",
    "    if data_json['type'] == 'single':\n",
    "        data.append(data_json)\n",
    "        count_init= count_init+1\n",
    "    else:\n",
    "        count_init=count_init\n",
    "        \n",
    "#Paso 2 Crear el diccionario\n",
    "\n",
    "diccionario = {'Id':[],'Categoria':[],'Chiste':[],'Idioma':[]}\n",
    "\n",
    "#Extraer cada campo de la data\n",
    "        \n",
    "for i in data:\n",
    "    Id = i['id']\n",
    "    Categoria=i['category']\n",
    "    Chiste=i['joke']\n",
    "    Idioma= i['lang']\n",
    "    \n",
    "    diccionario['Id'].append(Id)\n",
    "    diccionario['Categoria'].append(Categoria)\n",
    "    diccionario['Chiste'].append(Chiste)\n",
    "    diccionario['Idioma'].append(Idioma)\n",
    "    \n",
    "df = pd.DataFrame(diccionario)\n",
    "display(df)"
   ]
  },
  {
   "cell_type": "code",
   "execution_count": 7,
   "id": "6047b8ef-b22f-4f62-9f1b-18a2e427f716",
   "metadata": {
    "tags": []
   },
   "outputs": [],
   "source": [
    "#Insertando los datos en Redsfhift\n",
    "from psycopg2.extras import execute_values\n",
    "with conn.cursor() as cur:\n",
    "    execute_values(\n",
    "        cur,\n",
    "        '''\n",
    "        INSERT INTO chistes (id,categoria,chiste,idioma)\n",
    "        VALUES %s\n",
    "        ''',\n",
    "        [tuple(row) for row in df.values],\n",
    "        page_size=len(df)\n",
    "    )\n",
    "    conn.commit()"
   ]
  },
  {
   "cell_type": "code",
   "execution_count": 8,
   "id": "497ce9b3-6736-42d7-8258-e71f41360a7b",
   "metadata": {
    "tags": []
   },
   "outputs": [],
   "source": [
    "cur.close()\n",
    "conn.close()"
   ]
  },
  {
   "cell_type": "code",
   "execution_count": null,
   "id": "6cd4221d-d493-45b7-881c-e58ffb75ea59",
   "metadata": {},
   "outputs": [],
   "source": []
  }
 ],
 "metadata": {
  "kernelspec": {
   "display_name": "Python 3 (ipykernel)",
   "language": "python",
   "name": "python3"
  },
  "language_info": {
   "codemirror_mode": {
    "name": "ipython",
    "version": 3
   },
   "file_extension": ".py",
   "mimetype": "text/x-python",
   "name": "python",
   "nbconvert_exporter": "python",
   "pygments_lexer": "ipython3",
   "version": "3.11.5"
  }
 },
 "nbformat": 4,
 "nbformat_minor": 5
}
